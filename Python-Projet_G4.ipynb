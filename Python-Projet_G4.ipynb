{
 "cells": [
  {
   "cell_type": "code",
   "execution_count": 2,
   "id": "discrete-documentation",
   "metadata": {},
   "outputs": [],
   "source": [
    "import re"
   ]
  },
  {
   "cell_type": "code",
   "execution_count": 5,
   "id": "professional-treaty",
   "metadata": {},
   "outputs": [
    {
     "name": "stdout",
     "output_type": "stream",
     "text": [
      "Entrer une chaine : 12435 RB\n",
      "2435 RB  est le seul numéro d'immatriculation presente dans la chaine \n"
     ]
    }
   ],
   "source": [
    "def findMat(ch):\n",
    "    \n",
    "    \"\"\"Cette fonction permet de rechercher et de renvoyer sous forme d'une liste toute les expressions regulière de la \n",
    "    forme abcd RB, avec a,b,c,d des chiffre\"\"\"\n",
    "    \n",
    "    return re.findall(\"([0-9][0-9][0-9][0-9] RB+)\", ch) \n",
    "\n",
    "#help(findMat)  \n",
    "\n",
    "chaine = input(\"Entrer une chaine : \") \n",
    "\n",
    "matricule = findMat(chaine)\n",
    "\n",
    "if(len(matricule) == 0):\n",
    "    print(\"Il y'a aucune numéro d'immatriculation dans la chaine\")\n",
    "\n",
    "elif(len(matricule) == 1):\n",
    "    print(matricule[0], \" est le seul numéro d'immatriculation présente dans la chaine \")\n",
    "    \n",
    "else:\n",
    "    for i in matricule:\n",
    "        print(i,\",\")\n",
    "    print(\"sont les numéros d'immatriculation presentes dans la chaine\")\n",
    "          "
   ]
  },
  {
   "cell_type": "code",
   "execution_count": null,
   "id": "smooth-symbol",
   "metadata": {},
   "outputs": [],
   "source": []
  }
 ],
 "metadata": {
  "kernelspec": {
   "display_name": "Python 3",
   "language": "python",
   "name": "python3"
  },
  "language_info": {
   "codemirror_mode": {
    "name": "ipython",
    "version": 3
   },
   "file_extension": ".py",
   "mimetype": "text/x-python",
   "name": "python",
   "nbconvert_exporter": "python",
   "pygments_lexer": "ipython3",
   "version": "3.9.2"
  }
 },
 "nbformat": 4,
 "nbformat_minor": 5
}
